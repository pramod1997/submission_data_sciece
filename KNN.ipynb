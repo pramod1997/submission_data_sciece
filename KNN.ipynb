{
  "nbformat": 4,
  "nbformat_minor": 0,
  "metadata": {
    "colab": {
      "name": "KNN.ipynb",
      "version": "0.3.2",
      "provenance": [],
      "collapsed_sections": [],
      "include_colab_link": true
    },
    "kernelspec": {
      "name": "python3",
      "display_name": "Python 3"
    }
  },
  "cells": [
    {
      "cell_type": "markdown",
      "metadata": {
        "id": "view-in-github",
        "colab_type": "text"
      },
      "source": [
        "<a href=\"https://colab.research.google.com/github/pramod1997/submission_data_sciece/blob/master/KNN.ipynb\" target=\"_parent\"><img src=\"https://colab.research.google.com/assets/colab-badge.svg\" alt=\"Open In Colab\"/></a>"
      ]
    },
    {
      "metadata": {
        "id": "vJTEHMBrTrPH",
        "colab_type": "code",
        "colab": {}
      },
      "cell_type": "code",
      "source": [
        "import pandas as pd\n",
        "import numpy as np\n",
        "import matplotlib.pyplot as plt\n",
        "import seaborn as sns\n",
        "from sklearn.neighbors import KNeighborsClassifier\n",
        "from sklearn.model_selection import train_test_split ,GridSearchCV\n",
        "from sklearn.model_selection import StratifiedKFold\n",
        "from sklearn.metrics import roc_auc_score , accuracy_score , confusion_matrix\n",
        "from sklearn.metrics import roc_curve, auc\n"
      ],
      "execution_count": 0,
      "outputs": []
    },
    {
      "metadata": {
        "id": "v6blrUjVUDNg",
        "colab_type": "code",
        "colab": {}
      },
      "cell_type": "code",
      "source": [
        "df = pd.read_csv('new_processed_data.csv')"
      ],
      "execution_count": 0,
      "outputs": []
    },
    {
      "metadata": {
        "id": "SjMaPHwaUIfb",
        "colab_type": "code",
        "outputId": "3bc49995-afb3-461b-925d-90104126d4d9",
        "colab": {
          "base_uri": "https://localhost:8080/",
          "height": 263
        }
      },
      "cell_type": "code",
      "source": [
        "df.head()"
      ],
      "execution_count": 3,
      "outputs": [
        {
          "output_type": "execute_result",
          "data": {
            "text/html": [
              "<div>\n",
              "<style scoped>\n",
              "    .dataframe tbody tr th:only-of-type {\n",
              "        vertical-align: middle;\n",
              "    }\n",
              "\n",
              "    .dataframe tbody tr th {\n",
              "        vertical-align: top;\n",
              "    }\n",
              "\n",
              "    .dataframe thead th {\n",
              "        text-align: right;\n",
              "    }\n",
              "</style>\n",
              "<table border=\"1\" class=\"dataframe\">\n",
              "  <thead>\n",
              "    <tr style=\"text-align: right;\">\n",
              "      <th></th>\n",
              "      <th>CRIF.S1.Score</th>\n",
              "      <th>Payment.Amount</th>\n",
              "      <th>Interest.Paid</th>\n",
              "      <th>Principal.Advance.Paid</th>\n",
              "      <th>Total.years.of.experience.in.Employment.</th>\n",
              "      <th>Estimated.Interest</th>\n",
              "      <th>Debt.service.ratio</th>\n",
              "      <th>Salary.Income.current.month</th>\n",
              "      <th>Interest.Rate</th>\n",
              "      <th>Total.Amount.Paid</th>\n",
              "      <th>...</th>\n",
              "      <th>Education.Level</th>\n",
              "      <th>No.of.dependents</th>\n",
              "      <th>Loan.Amount</th>\n",
              "      <th>Contract.Date</th>\n",
              "      <th>Marital.status</th>\n",
              "      <th>Term</th>\n",
              "      <th>Residential.status</th>\n",
              "      <th>pymt_standing</th>\n",
              "      <th>Maturity.Date</th>\n",
              "      <th>Fee.Set</th>\n",
              "    </tr>\n",
              "  </thead>\n",
              "  <tbody>\n",
              "    <tr>\n",
              "      <th>0</th>\n",
              "      <td>7.112594e-01</td>\n",
              "      <td>0.0</td>\n",
              "      <td>1.729864</td>\n",
              "      <td>1.364154</td>\n",
              "      <td>1.016878</td>\n",
              "      <td>1.104053</td>\n",
              "      <td>0.641180</td>\n",
              "      <td>0.161886</td>\n",
              "      <td>-1.352475</td>\n",
              "      <td>1.480821</td>\n",
              "      <td>...</td>\n",
              "      <td>1</td>\n",
              "      <td>2</td>\n",
              "      <td>1.403863</td>\n",
              "      <td>1.742273</td>\n",
              "      <td>1</td>\n",
              "      <td>0.797752</td>\n",
              "      <td>0</td>\n",
              "      <td>1</td>\n",
              "      <td>-0.020492</td>\n",
              "      <td>3</td>\n",
              "    </tr>\n",
              "    <tr>\n",
              "      <th>1</th>\n",
              "      <td>1.008791e-15</td>\n",
              "      <td>0.0</td>\n",
              "      <td>0.919827</td>\n",
              "      <td>1.256476</td>\n",
              "      <td>0.081937</td>\n",
              "      <td>-0.394244</td>\n",
              "      <td>0.580981</td>\n",
              "      <td>0.161886</td>\n",
              "      <td>-0.235248</td>\n",
              "      <td>1.194443</td>\n",
              "      <td>...</td>\n",
              "      <td>3</td>\n",
              "      <td>2</td>\n",
              "      <td>-0.362029</td>\n",
              "      <td>2.464853</td>\n",
              "      <td>1</td>\n",
              "      <td>-0.517696</td>\n",
              "      <td>0</td>\n",
              "      <td>1</td>\n",
              "      <td>-2.419212</td>\n",
              "      <td>5</td>\n",
              "    </tr>\n",
              "    <tr>\n",
              "      <th>2</th>\n",
              "      <td>1.008791e-15</td>\n",
              "      <td>0.0</td>\n",
              "      <td>0.392257</td>\n",
              "      <td>0.247584</td>\n",
              "      <td>-0.800805</td>\n",
              "      <td>-1.260407</td>\n",
              "      <td>0.811198</td>\n",
              "      <td>0.161886</td>\n",
              "      <td>-1.491055</td>\n",
              "      <td>0.282910</td>\n",
              "      <td>...</td>\n",
              "      <td>5</td>\n",
              "      <td>0</td>\n",
              "      <td>-0.899474</td>\n",
              "      <td>2.464853</td>\n",
              "      <td>0</td>\n",
              "      <td>-0.517696</td>\n",
              "      <td>1</td>\n",
              "      <td>0</td>\n",
              "      <td>-2.419212</td>\n",
              "      <td>3</td>\n",
              "    </tr>\n",
              "    <tr>\n",
              "      <th>3</th>\n",
              "      <td>1.008791e-15</td>\n",
              "      <td>0.0</td>\n",
              "      <td>1.887456</td>\n",
              "      <td>1.929014</td>\n",
              "      <td>0.081937</td>\n",
              "      <td>1.052157</td>\n",
              "      <td>-0.428102</td>\n",
              "      <td>0.161886</td>\n",
              "      <td>1.108193</td>\n",
              "      <td>1.988764</td>\n",
              "      <td>...</td>\n",
              "      <td>3</td>\n",
              "      <td>2</td>\n",
              "      <td>0.328972</td>\n",
              "      <td>2.284208</td>\n",
              "      <td>1</td>\n",
              "      <td>0.797752</td>\n",
              "      <td>1</td>\n",
              "      <td>2</td>\n",
              "      <td>-1.219852</td>\n",
              "      <td>7</td>\n",
              "    </tr>\n",
              "    <tr>\n",
              "      <th>4</th>\n",
              "      <td>1.008791e-15</td>\n",
              "      <td>0.0</td>\n",
              "      <td>1.257000</td>\n",
              "      <td>0.737145</td>\n",
              "      <td>1.163304</td>\n",
              "      <td>0.141975</td>\n",
              "      <td>0.846952</td>\n",
              "      <td>0.161886</td>\n",
              "      <td>-0.218997</td>\n",
              "      <td>0.878189</td>\n",
              "      <td>...</td>\n",
              "      <td>2</td>\n",
              "      <td>3</td>\n",
              "      <td>-0.362029</td>\n",
              "      <td>2.464853</td>\n",
              "      <td>1</td>\n",
              "      <td>0.797752</td>\n",
              "      <td>0</td>\n",
              "      <td>1</td>\n",
              "      <td>-1.219852</td>\n",
              "      <td>5</td>\n",
              "    </tr>\n",
              "  </tbody>\n",
              "</table>\n",
              "<p>5 rows × 24 columns</p>\n",
              "</div>"
            ],
            "text/plain": [
              "   CRIF.S1.Score  Payment.Amount  Interest.Paid  Principal.Advance.Paid  \\\n",
              "0   7.112594e-01             0.0       1.729864                1.364154   \n",
              "1   1.008791e-15             0.0       0.919827                1.256476   \n",
              "2   1.008791e-15             0.0       0.392257                0.247584   \n",
              "3   1.008791e-15             0.0       1.887456                1.929014   \n",
              "4   1.008791e-15             0.0       1.257000                0.737145   \n",
              "\n",
              "   Total.years.of.experience.in.Employment.  Estimated.Interest  \\\n",
              "0                                  1.016878            1.104053   \n",
              "1                                  0.081937           -0.394244   \n",
              "2                                 -0.800805           -1.260407   \n",
              "3                                  0.081937            1.052157   \n",
              "4                                  1.163304            0.141975   \n",
              "\n",
              "   Debt.service.ratio  Salary.Income.current.month  Interest.Rate  \\\n",
              "0            0.641180                     0.161886      -1.352475   \n",
              "1            0.580981                     0.161886      -0.235248   \n",
              "2            0.811198                     0.161886      -1.491055   \n",
              "3           -0.428102                     0.161886       1.108193   \n",
              "4            0.846952                     0.161886      -0.218997   \n",
              "\n",
              "   Total.Amount.Paid   ...     Education.Level  No.of.dependents  Loan.Amount  \\\n",
              "0           1.480821   ...                   1                 2     1.403863   \n",
              "1           1.194443   ...                   3                 2    -0.362029   \n",
              "2           0.282910   ...                   5                 0    -0.899474   \n",
              "3           1.988764   ...                   3                 2     0.328972   \n",
              "4           0.878189   ...                   2                 3    -0.362029   \n",
              "\n",
              "   Contract.Date  Marital.status      Term  Residential.status  pymt_standing  \\\n",
              "0       1.742273               1  0.797752                   0              1   \n",
              "1       2.464853               1 -0.517696                   0              1   \n",
              "2       2.464853               0 -0.517696                   1              0   \n",
              "3       2.284208               1  0.797752                   1              2   \n",
              "4       2.464853               1  0.797752                   0              1   \n",
              "\n",
              "   Maturity.Date  Fee.Set  \n",
              "0      -0.020492        3  \n",
              "1      -2.419212        5  \n",
              "2      -2.419212        3  \n",
              "3      -1.219852        7  \n",
              "4      -1.219852        5  \n",
              "\n",
              "[5 rows x 24 columns]"
            ]
          },
          "metadata": {
            "tags": []
          },
          "execution_count": 3
        }
      ]
    },
    {
      "metadata": {
        "id": "5g6PozdtVYTv",
        "colab_type": "code",
        "outputId": "27b09a3c-2ee6-4d39-d321-0ebf83fcbfc0",
        "colab": {
          "base_uri": "https://localhost:8080/",
          "height": 170
        }
      },
      "cell_type": "code",
      "source": [
        "df.columns"
      ],
      "execution_count": 4,
      "outputs": [
        {
          "output_type": "execute_result",
          "data": {
            "text/plain": [
              "Index(['CRIF.S1.Score', 'Payment.Amount', 'Interest.Paid',\n",
              "       'Principal.Advance.Paid', 'Total.years.of.experience.in.Employment.',\n",
              "       'Estimated.Interest', 'Debt.service.ratio',\n",
              "       'Salary.Income.current.month', 'Interest.Rate', 'Total.Amount.Paid',\n",
              "       'Principal.Advance.Remaining', 'Delinquent.Amount', 'Date.of.Birth',\n",
              "       'Gender', 'Education.Level', 'No.of.dependents', 'Loan.Amount',\n",
              "       'Contract.Date', 'Marital.status', 'Term', 'Residential.status',\n",
              "       'pymt_standing', 'Maturity.Date', 'Fee.Set'],\n",
              "      dtype='object')"
            ]
          },
          "metadata": {
            "tags": []
          },
          "execution_count": 4
        }
      ]
    },
    {
      "metadata": {
        "id": "EQDazBzkU7el",
        "colab_type": "code",
        "colab": {}
      },
      "cell_type": "code",
      "source": [
        "### drop columns with target value --> 2 \n",
        "df.drop(df[df['pymt_standing']==2].index , inplace = True)"
      ],
      "execution_count": 0,
      "outputs": []
    },
    {
      "metadata": {
        "id": "wOP8VsjEV8ye",
        "colab_type": "code",
        "colab": {}
      },
      "cell_type": "code",
      "source": [
        "feature = [x for x in df.columns if x not in ['pymt_standing']]\n",
        "Y = df['pymt_standing']\n",
        "X = df[feature]"
      ],
      "execution_count": 0,
      "outputs": []
    },
    {
      "metadata": {
        "id": "VE7wFDbxUsNg",
        "colab_type": "code",
        "colab": {}
      },
      "cell_type": "code",
      "source": [
        "## split in train_test validation \n",
        "X_train , X_test , Y_train , Y_test = train_test_split(X,Y,test_size = 0.2)\n"
      ],
      "execution_count": 0,
      "outputs": []
    },
    {
      "metadata": {
        "id": "JkDBMoDfYTvb",
        "colab_type": "code",
        "colab": {}
      },
      "cell_type": "code",
      "source": [
        ""
      ],
      "execution_count": 0,
      "outputs": []
    },
    {
      "metadata": {
        "id": "dtIKE-UDXUPH",
        "colab_type": "code",
        "colab": {}
      },
      "cell_type": "code",
      "source": [
        "\n",
        "param_grid = {\n",
        "    'n_neighbors' : [x for x in range(1,25)]\n",
        "      \n",
        "    }\n",
        "clf = GridSearchCV(KNeighborsClassifier(), param_grid ,cv =5)\n",
        "\n",
        "  \n",
        "  "
      ],
      "execution_count": 0,
      "outputs": []
    },
    {
      "metadata": {
        "id": "lk2FCcpqn2Aj",
        "colab_type": "code",
        "outputId": "6787716b-0049-431d-c604-7f38a3d08eff",
        "colab": {
          "base_uri": "https://localhost:8080/",
          "height": 183
        }
      },
      "cell_type": "code",
      "source": [
        "clf.fit(X_train,Y_train)"
      ],
      "execution_count": 9,
      "outputs": [
        {
          "output_type": "execute_result",
          "data": {
            "text/plain": [
              "GridSearchCV(cv=5, error_score='raise-deprecating',\n",
              "       estimator=KNeighborsClassifier(algorithm='auto', leaf_size=30, metric='minkowski',\n",
              "           metric_params=None, n_jobs=None, n_neighbors=5, p=2,\n",
              "           weights='uniform'),\n",
              "       fit_params=None, iid='warn', n_jobs=None,\n",
              "       param_grid={'n_neighbors': [1, 2, 3, 4, 5, 6, 7, 8, 9, 10, 11, 12, 13, 14, 15, 16, 17, 18, 19, 20, 21, 22, 23, 24]},\n",
              "       pre_dispatch='2*n_jobs', refit=True, return_train_score='warn',\n",
              "       scoring=None, verbose=0)"
            ]
          },
          "metadata": {
            "tags": []
          },
          "execution_count": 9
        }
      ]
    },
    {
      "metadata": {
        "id": "MhJI9ze2oADd",
        "colab_type": "code",
        "outputId": "6135ef74-e0b4-416c-8ef4-888bf209b83b",
        "colab": {
          "base_uri": "https://localhost:8080/",
          "height": 34
        }
      },
      "cell_type": "code",
      "source": [
        "clf.best_params_"
      ],
      "execution_count": 10,
      "outputs": [
        {
          "output_type": "execute_result",
          "data": {
            "text/plain": [
              "{'n_neighbors': 2}"
            ]
          },
          "metadata": {
            "tags": []
          },
          "execution_count": 10
        }
      ]
    },
    {
      "metadata": {
        "id": "nu839RRueJGg",
        "colab_type": "code",
        "outputId": "9d204dcc-2e46-43da-d83e-d2923148b84c",
        "colab": {
          "base_uri": "https://localhost:8080/",
          "height": 68
        }
      },
      "cell_type": "code",
      "source": [
        "### finally selecting k =10 \n",
        "model = KNeighborsClassifier(algorithm='auto', leaf_size=30, metric='minkowski',metric_params=None, n_jobs=None, n_neighbors=2, p=2, weights='uniform')\n",
        "model.fit(X_train,Y_train)"
      ],
      "execution_count": 11,
      "outputs": [
        {
          "output_type": "execute_result",
          "data": {
            "text/plain": [
              "KNeighborsClassifier(algorithm='auto', leaf_size=30, metric='minkowski',\n",
              "           metric_params=None, n_jobs=None, n_neighbors=2, p=2,\n",
              "           weights='uniform')"
            ]
          },
          "metadata": {
            "tags": []
          },
          "execution_count": 11
        }
      ]
    },
    {
      "metadata": {
        "id": "M53Rt5x_rO7_",
        "colab_type": "code",
        "outputId": "cd15554a-c398-49ec-9db7-34bf292d8c3e",
        "colab": {
          "base_uri": "https://localhost:8080/",
          "height": 51
        }
      },
      "cell_type": "code",
      "source": [
        "# train accuracy\n",
        "prediction = model.predict(X_train)\n",
        "confusion_matrix(Y_train,prediction)"
      ],
      "execution_count": 12,
      "outputs": [
        {
          "output_type": "execute_result",
          "data": {
            "text/plain": [
              "array([[ 247,    0],\n",
              "       [   1, 1207]])"
            ]
          },
          "metadata": {
            "tags": []
          },
          "execution_count": 12
        }
      ]
    },
    {
      "metadata": {
        "id": "ur19a-IXd5-d",
        "colab_type": "code",
        "outputId": "3f9acf65-87ee-4d69-ce6b-7476dd13d5e5",
        "colab": {
          "base_uri": "https://localhost:8080/",
          "height": 51
        }
      },
      "cell_type": "code",
      "source": [
        "# test accuracy\n",
        "prediction = model.predict(X_test)\n",
        "confusion_matrix(Y_test,prediction)"
      ],
      "execution_count": 13,
      "outputs": [
        {
          "output_type": "execute_result",
          "data": {
            "text/plain": [
              "array([[ 58,   0],\n",
              "       [  0, 306]])"
            ]
          },
          "metadata": {
            "tags": []
          },
          "execution_count": 13
        }
      ]
    },
    {
      "metadata": {
        "id": "noTfUly4o1-c",
        "colab_type": "code",
        "outputId": "765cc9cc-787d-4fda-f004-23fbfe23f122",
        "colab": {
          "base_uri": "https://localhost:8080/",
          "height": 364
        }
      },
      "cell_type": "code",
      "source": [
        "##plotting confusion matrix \n",
        "array = confusion_matrix(Y_test,prediction)\n",
        "df_cm = pd.DataFrame(array, [0,1],\n",
        "                  [0,1])\n",
        "#plt.figure(figsize = (10,7))\n",
        "plt.xlabel('Predicted')\n",
        "plt.ylabel('Actual Label')\n",
        "sns.heatmap(df_cm, annot=True,annot_kws={\"size\": 16} ,fmt='g')# font size"
      ],
      "execution_count": 14,
      "outputs": [
        {
          "output_type": "execute_result",
          "data": {
            "text/plain": [
              "<matplotlib.axes._subplots.AxesSubplot at 0x7f43fa0af6a0>"
            ]
          },
          "metadata": {
            "tags": []
          },
          "execution_count": 14
        },
        {
          "output_type": "display_data",
          "data": {
            "image/png": "[encoded data removed]",
            "text/plain": [
              "<Figure size 576x396 with 2 Axes>"
            ]
          },
          "metadata": {
            "tags": []
          }
        }
      ]
    },
    {
      "metadata": {
        "id": "WXzQIHasuDXV",
        "colab_type": "code",
        "outputId": "14f36a35-67a2-4de4-a66a-e33bd34c2af0",
        "colab": {
          "base_uri": "https://localhost:8080/",
          "height": 34
        }
      },
      "cell_type": "code",
      "source": [
        "score = accuracy_score(Y_test,prediction)\n",
        "score"
      ],
      "execution_count": 15,
      "outputs": [
        {
          "output_type": "execute_result",
          "data": {
            "text/plain": [
              "1.0"
            ]
          },
          "metadata": {
            "tags": []
          },
          "execution_count": 15
        }
      ]
    },
    {
      "metadata": {
        "id": "ipfqEWZqegNP",
        "colab_type": "code",
        "outputId": "012f4693-b30a-47d3-c1f8-f5a96e43495c",
        "colab": {
          "base_uri": "https://localhost:8080/",
          "height": 34
        }
      },
      "cell_type": "code",
      "source": [
        "### roc_auc_score  ---> it needs to improve \n",
        "prediction = model.predict_proba(X_test)\n",
        "roc_score = roc_auc_score(Y_test,prediction[:,1])\n",
        "roc_score"
      ],
      "execution_count": 16,
      "outputs": [
        {
          "output_type": "execute_result",
          "data": {
            "text/plain": [
              "1.0"
            ]
          },
          "metadata": {
            "tags": []
          },
          "execution_count": 16
        }
      ]
    },
    {
      "metadata": {
        "id": "Tr2cXRN6rHLx",
        "colab_type": "code",
        "outputId": "c60eac9f-716d-438b-bb8d-d8f5b610fa99",
        "colab": {
          "base_uri": "https://localhost:8080/",
          "height": 376
        }
      },
      "cell_type": "code",
      "source": [
        "## plot roc curve\n",
        "###  \n",
        "\n",
        "target = Y_test\n",
        "prediction = prediction[:,1]\n",
        "\n",
        "fpr, tpr, thresholds = roc_curve( target,prediction)\n",
        "roc_auc = auc(fpr, tpr)\n",
        "\n",
        "plt.figure()\n",
        "plt.plot(fpr, tpr, color='darkorange', lw=1, label='ROC curve (area = %0.4f)' % roc_auc)\n",
        "plt.plot([0, 1], [0, 1], color='navy', lw=1, linestyle='--')\n",
        "plt.xlim([0.0, 1.0])\n",
        "plt.ylim([0.0, 1.05])\n",
        "plt.xlabel('False Positive Rate')\n",
        "plt.ylabel('True Positive Rate')\n",
        "plt.title('Receiver operating characteristic')\n",
        "plt.legend(loc=\"lower right\")\n",
        "plt.show()"
      ],
      "execution_count": 17,
      "outputs": [
        {
          "output_type": "display_data",
          "data": {
            "image/png": "[encoded data removed]",
            "text/plain": [
              "<Figure size 576x396 with 1 Axes>"
            ]
          },
          "metadata": {
            "tags": []
          }
        }
      ]
    },
    {
      "metadata": {
        "id": "nLTAD63kstJ1",
        "colab_type": "code",
        "outputId": "2e2295b5-e406-4bfd-8e1a-3fd0d8b9de46",
        "colab": {
          "base_uri": "https://localhost:8080/",
          "height": 51
        }
      },
      "cell_type": "code",
      "source": [
        "np.array(np.unique(Y_test, return_counts=True))"
      ],
      "execution_count": 18,
      "outputs": [
        {
          "output_type": "execute_result",
          "data": {
            "text/plain": [
              "array([[  0,   1],\n",
              "       [ 58, 306]])"
            ]
          },
          "metadata": {
            "tags": []
          },
          "execution_count": 18
        }
      ]
    },
    {
      "metadata": {
        "id": "44OyU_yBvERn",
        "colab_type": "code",
        "colab": {}
      },
      "cell_type": "code",
      "source": [
        ""
      ],
      "execution_count": 0,
      "outputs": []
    }
  ]
}