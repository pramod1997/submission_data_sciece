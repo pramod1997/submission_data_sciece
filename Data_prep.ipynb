{
  "nbformat": 4,
  "nbformat_minor": 0,
  "metadata": {
    "colab": {
      "name": "Data_prep.ipynb",
      "version": "0.3.2",
      "provenance": [],
      "collapsed_sections": [],
      "include_colab_link": true
    },
    "kernelspec": {
      "name": "python3",
      "display_name": "Python 3"
    }
  },
  "cells": [
    {
      "cell_type": "markdown",
      "metadata": {
        "id": "view-in-github",
        "colab_type": "text"
      },
      "source": [
        "<a href=\"https://colab.research.google.com/github/pramod1997/submission_data_sciece/blob/master/Data_prep.ipynb\" target=\"_parent\"><img src=\"https://colab.research.google.com/assets/colab-badge.svg\" alt=\"Open In Colab\"/></a>"
      ]
    },
    {
      "metadata": {
        "id": "NqvWgq6Xc0is",
        "colab_type": "code",
        "colab": {}
      },
      "cell_type": "code",
      "source": [
        "import numpy as np\n",
        "import pandas as pd\n",
        "import seaborn as sns\n",
        "import matplotlib.pyplot as plt\n",
        "from datetime import datetime , timedelta\n",
        "from sklearn.preprocessing import StandardScaler , PowerTransformer\n"
      ],
      "execution_count": 0,
      "outputs": []
    },
    {
      "metadata": {
        "id": "sJJyZW7oc7F7",
        "colab_type": "code",
        "colab": {}
      },
      "cell_type": "code",
      "source": [
        "df = pd.read_excel('Data.xlsx',sheet_name =1)"
      ],
      "execution_count": 0,
      "outputs": []
    },
    {
      "metadata": {
        "id": "DBUAIFVMc_S7",
        "colab_type": "code",
        "outputId": "a5d418b5-0abb-4163-d0db-34988aeb5e61",
        "colab": {
          "base_uri": "https://localhost:8080/",
          "height": 343
        }
      },
      "cell_type": "code",
      "source": [
        "df.head()"
      ],
      "execution_count": 3,
      "outputs": [
        {
          "output_type": "execute_result",
          "data": {
            "text/html": [
              "<div>\n",
              "<style scoped>\n",
              "    .dataframe tbody tr th:only-of-type {\n",
              "        vertical-align: middle;\n",
              "    }\n",
              "\n",
              "    .dataframe tbody tr th {\n",
              "        vertical-align: top;\n",
              "    }\n",
              "\n",
              "    .dataframe thead th {\n",
              "        text-align: right;\n",
              "    }\n",
              "</style>\n",
              "<table border=\"1\" class=\"dataframe\">\n",
              "  <thead>\n",
              "    <tr style=\"text-align: right;\">\n",
              "      <th></th>\n",
              "      <th>Linkedin.is.Verified</th>\n",
              "      <th>Facebook.is.Verified</th>\n",
              "      <th>Date.of.Birth</th>\n",
              "      <th>Gender</th>\n",
              "      <th>Education.Level</th>\n",
              "      <th>No.of.dependents</th>\n",
              "      <th>Detailed.reason.by.Applicant</th>\n",
              "      <th>CRIF.S1.Score</th>\n",
              "      <th>Application.incomplete.date</th>\n",
              "      <th>Loan.Amount</th>\n",
              "      <th>...</th>\n",
              "      <th>Residential.status</th>\n",
              "      <th>UTM.Source</th>\n",
              "      <th>Created.Date</th>\n",
              "      <th>pymt_standing</th>\n",
              "      <th>Interest.Rate</th>\n",
              "      <th>Maturity.Date</th>\n",
              "      <th>Total.Amount.Paid</th>\n",
              "      <th>Principal.Advance.Remaining</th>\n",
              "      <th>Delinquent.Amount</th>\n",
              "      <th>Fee.Set</th>\n",
              "    </tr>\n",
              "  </thead>\n",
              "  <tbody>\n",
              "    <tr>\n",
              "      <th>0</th>\n",
              "      <td>NaN</td>\n",
              "      <td>NaN</td>\n",
              "      <td>1980-07-03</td>\n",
              "      <td>Male</td>\n",
              "      <td>Professional</td>\n",
              "      <td>1 to 2</td>\n",
              "      <td>I am working as Software Eng in a IT firm sinc...</td>\n",
              "      <td>753.0</td>\n",
              "      <td>2017-03-01</td>\n",
              "      <td>200000</td>\n",
              "      <td>...</td>\n",
              "      <td>Rented</td>\n",
              "      <td>NaN</td>\n",
              "      <td>2016-11-18</td>\n",
              "      <td>Active - Good Standing</td>\n",
              "      <td>16.41</td>\n",
              "      <td>2020-01-04</td>\n",
              "      <td>113840.00</td>\n",
              "      <td>123741.56</td>\n",
              "      <td>0.00</td>\n",
              "      <td>1-M3</td>\n",
              "    </tr>\n",
              "    <tr>\n",
              "      <th>1</th>\n",
              "      <td>NaN</td>\n",
              "      <td>NaN</td>\n",
              "      <td>1983-02-06</td>\n",
              "      <td>Male</td>\n",
              "      <td>Graduate</td>\n",
              "      <td>1 to 2</td>\n",
              "      <td>I am working as an analyst Programmer in a IT ...</td>\n",
              "      <td>NaN</td>\n",
              "      <td>2016-11-18</td>\n",
              "      <td>85000</td>\n",
              "      <td>...</td>\n",
              "      <td>Rented</td>\n",
              "      <td>NaN</td>\n",
              "      <td>2016-11-18</td>\n",
              "      <td>Active - Good Standing</td>\n",
              "      <td>19.50</td>\n",
              "      <td>2018-01-12</td>\n",
              "      <td>87209.00</td>\n",
              "      <td>16762.90</td>\n",
              "      <td>0.00</td>\n",
              "      <td>1-M5</td>\n",
              "    </tr>\n",
              "    <tr>\n",
              "      <th>2</th>\n",
              "      <td>NaN</td>\n",
              "      <td>NaN</td>\n",
              "      <td>1994-12-20</td>\n",
              "      <td>Male</td>\n",
              "      <td>Upto Hr Secondary</td>\n",
              "      <td>0</td>\n",
              "      <td>I have enough salary enough that i can take ca...</td>\n",
              "      <td>NaN</td>\n",
              "      <td>2016-11-19</td>\n",
              "      <td>50000</td>\n",
              "      <td>...</td>\n",
              "      <td>Self or spouse owned</td>\n",
              "      <td>NaN</td>\n",
              "      <td>2016-11-19</td>\n",
              "      <td>Active - Bad Standing</td>\n",
              "      <td>16.07</td>\n",
              "      <td>2018-01-12</td>\n",
              "      <td>31222.92</td>\n",
              "      <td>30407.81</td>\n",
              "      <td>19500.56</td>\n",
              "      <td>1-M3</td>\n",
              "    </tr>\n",
              "    <tr>\n",
              "      <th>3</th>\n",
              "      <td>NaN</td>\n",
              "      <td>NaN</td>\n",
              "      <td>1981-04-20</td>\n",
              "      <td>Male</td>\n",
              "      <td>Graduate</td>\n",
              "      <td>1 to 2</td>\n",
              "      <td>Hi team my name is Balaji Polam,from last mont...</td>\n",
              "      <td>NaN</td>\n",
              "      <td>2016-11-20</td>\n",
              "      <td>130000</td>\n",
              "      <td>...</td>\n",
              "      <td>Self or spouse owned</td>\n",
              "      <td>NaN</td>\n",
              "      <td>2016-11-20</td>\n",
              "      <td>Closed - Obligations met</td>\n",
              "      <td>24.23</td>\n",
              "      <td>2019-01-12</td>\n",
              "      <td>174238.16</td>\n",
              "      <td>0.00</td>\n",
              "      <td>0.00</td>\n",
              "      <td>1-M7</td>\n",
              "    </tr>\n",
              "    <tr>\n",
              "      <th>4</th>\n",
              "      <td>NaN</td>\n",
              "      <td>NaN</td>\n",
              "      <td>1977-05-29</td>\n",
              "      <td>Male</td>\n",
              "      <td>Post Graduate</td>\n",
              "      <td>3 to 5</td>\n",
              "      <td>I want to pay children's education fess and my...</td>\n",
              "      <td>NaN</td>\n",
              "      <td>2016-11-21</td>\n",
              "      <td>85000</td>\n",
              "      <td>...</td>\n",
              "      <td>Company Quarters</td>\n",
              "      <td>NaN</td>\n",
              "      <td>2016-11-21</td>\n",
              "      <td>Active - Good Standing</td>\n",
              "      <td>19.55</td>\n",
              "      <td>2019-01-12</td>\n",
              "      <td>63229.00</td>\n",
              "      <td>47146.24</td>\n",
              "      <td>0.00</td>\n",
              "      <td>1-M5</td>\n",
              "    </tr>\n",
              "  </tbody>\n",
              "</table>\n",
              "<p>5 rows × 37 columns</p>\n",
              "</div>"
            ],
            "text/plain": [
              "   Linkedin.is.Verified  Facebook.is.Verified Date.of.Birth Gender  \\\n",
              "0                   NaN                   NaN    1980-07-03   Male   \n",
              "1                   NaN                   NaN    1983-02-06   Male   \n",
              "2                   NaN                   NaN    1994-12-20   Male   \n",
              "3                   NaN                   NaN    1981-04-20   Male   \n",
              "4                   NaN                   NaN    1977-05-29   Male   \n",
              "\n",
              "     Education.Level No.of.dependents  \\\n",
              "0       Professional           1 to 2   \n",
              "1           Graduate           1 to 2   \n",
              "2  Upto Hr Secondary                0   \n",
              "3           Graduate           1 to 2   \n",
              "4      Post Graduate           3 to 5   \n",
              "\n",
              "                        Detailed.reason.by.Applicant  CRIF.S1.Score  \\\n",
              "0  I am working as Software Eng in a IT firm sinc...          753.0   \n",
              "1  I am working as an analyst Programmer in a IT ...            NaN   \n",
              "2  I have enough salary enough that i can take ca...            NaN   \n",
              "3  Hi team my name is Balaji Polam,from last mont...            NaN   \n",
              "4  I want to pay children's education fess and my...            NaN   \n",
              "\n",
              "  Application.incomplete.date  Loan.Amount   ...      Residential.status  \\\n",
              "0                  2017-03-01       200000   ...                  Rented   \n",
              "1                  2016-11-18        85000   ...                  Rented   \n",
              "2                  2016-11-19        50000   ...    Self or spouse owned   \n",
              "3                  2016-11-20       130000   ...    Self or spouse owned   \n",
              "4                  2016-11-21        85000   ...        Company Quarters   \n",
              "\n",
              "   UTM.Source  Created.Date             pymt_standing  Interest.Rate  \\\n",
              "0         NaN    2016-11-18    Active - Good Standing          16.41   \n",
              "1         NaN    2016-11-18    Active - Good Standing          19.50   \n",
              "2         NaN    2016-11-19     Active - Bad Standing          16.07   \n",
              "3         NaN    2016-11-20  Closed - Obligations met          24.23   \n",
              "4         NaN    2016-11-21    Active - Good Standing          19.55   \n",
              "\n",
              "  Maturity.Date  Total.Amount.Paid Principal.Advance.Remaining  \\\n",
              "0    2020-01-04          113840.00                   123741.56   \n",
              "1    2018-01-12           87209.00                    16762.90   \n",
              "2    2018-01-12           31222.92                    30407.81   \n",
              "3    2019-01-12          174238.16                        0.00   \n",
              "4    2019-01-12           63229.00                    47146.24   \n",
              "\n",
              "   Delinquent.Amount Fee.Set  \n",
              "0               0.00    1-M3  \n",
              "1               0.00    1-M5  \n",
              "2           19500.56    1-M3  \n",
              "3               0.00    1-M7  \n",
              "4               0.00    1-M5  \n",
              "\n",
              "[5 rows x 37 columns]"
            ]
          },
          "metadata": {
            "tags": []
          },
          "execution_count": 3
        }
      ]
    },
    {
      "metadata": {
        "id": "NsuJVxxXdBXY",
        "colab_type": "code",
        "colab": {}
      },
      "cell_type": "code",
      "source": [
        "# spearating the columns on  basis of datatypes \n",
        "numeric_cols = [x for x in df.columns if df[x].dtypes in ['float64']]\n",
        "string_cols = [x for x in df.columns if df[x].dtypes not in ['float64']]"
      ],
      "execution_count": 0,
      "outputs": []
    },
    {
      "metadata": {
        "id": "y5xb0NqadEQD",
        "colab_type": "code",
        "colab": {}
      },
      "cell_type": "code",
      "source": [
        "## Analyse numeric values first"
      ],
      "execution_count": 0,
      "outputs": []
    },
    {
      "metadata": {
        "id": "9oczcaxhdJqK",
        "colab_type": "code",
        "outputId": "bb35ba23-7bd1-4ca5-e3ef-23a87b77df16",
        "colab": {
          "base_uri": "https://localhost:8080/",
          "height": 306
        }
      },
      "cell_type": "code",
      "source": [
        "df[numeric_cols].isnull().sum()"
      ],
      "execution_count": 6,
      "outputs": [
        {
          "output_type": "execute_result",
          "data": {
            "text/plain": [
              "Linkedin.is.Verified                        1443\n",
              "Facebook.is.Verified                        1186\n",
              "CRIF.S1.Score                                188\n",
              "Payment.Amount                                 0\n",
              "Interest.Paid                                  0\n",
              "Principal.Advance.Paid                         0\n",
              "EPFO.Verification.Status                    1990\n",
              "Total.years.of.experience.in.Employment.       3\n",
              "Estimated.Interest                             0\n",
              "Bank.Transactions.Fetched                      3\n",
              "Debt.service.ratio                            17\n",
              "Salary.Income.current.month                    3\n",
              "Interest.Rate                                  0\n",
              "Total.Amount.Paid                              0\n",
              "Principal.Advance.Remaining                    0\n",
              "Delinquent.Amount                              0\n",
              "dtype: int64"
            ]
          },
          "metadata": {
            "tags": []
          },
          "execution_count": 6
        }
      ]
    },
    {
      "metadata": {
        "id": "GHuDYSxldKtZ",
        "colab_type": "code",
        "colab": {}
      },
      "cell_type": "code",
      "source": [
        "### dropping the columsn with too many missing values - > linkedin , facebook , epfo , bank_transcation\n",
        "numeric_cols.remove('Linkedin.is.Verified')\n",
        "numeric_cols.remove('Facebook.is.Verified')\n",
        "numeric_cols.remove('EPFO.Verification.Status')\n",
        "numeric_cols.remove('Bank.Transactions.Fetched')"
      ],
      "execution_count": 0,
      "outputs": []
    },
    {
      "metadata": {
        "id": "pRcgviTyjQec",
        "colab_type": "code",
        "outputId": "bfe87790-df1a-410d-81a8-5b17fc12daf3",
        "colab": {
          "base_uri": "https://localhost:8080/",
          "height": 221
        }
      },
      "cell_type": "code",
      "source": [
        "numeric_cols"
      ],
      "execution_count": 8,
      "outputs": [
        {
          "output_type": "execute_result",
          "data": {
            "text/plain": [
              "['CRIF.S1.Score',\n",
              " 'Payment.Amount',\n",
              " 'Interest.Paid',\n",
              " 'Principal.Advance.Paid',\n",
              " 'Total.years.of.experience.in.Employment.',\n",
              " 'Estimated.Interest',\n",
              " 'Debt.service.ratio',\n",
              " 'Salary.Income.current.month',\n",
              " 'Interest.Rate',\n",
              " 'Total.Amount.Paid',\n",
              " 'Principal.Advance.Remaining',\n",
              " 'Delinquent.Amount']"
            ]
          },
          "metadata": {
            "tags": []
          },
          "execution_count": 8
        }
      ]
    },
    {
      "metadata": {
        "id": "RS0hGIMMiLrX",
        "colab_type": "code",
        "outputId": "e960b7cf-d95d-479b-c71d-cc967c405cb6",
        "colab": {
          "base_uri": "https://localhost:8080/",
          "height": 76
        }
      },
      "cell_type": "code",
      "source": [
        "### apllying power transform to get rid of skewness\n",
        "pt = PowerTransformer( method='yeo-johnson', standardize=False)\n",
        "df[numeric_cols] = pt.fit_transform(df[numeric_cols])\n",
        " "
      ],
      "execution_count": 9,
      "outputs": [
        {
          "output_type": "stream",
          "text": [
            "/usr/local/lib/python3.6/dist-packages/sklearn/preprocessing/data.py:2798: RuntimeWarning: divide by zero encountered in log\n",
            "  loglike = -n_samples / 2 * np.log(x_trans.var())\n"
          ],
          "name": "stderr"
        }
      ]
    },
    {
      "metadata": {
        "id": "498hhnjAjqtj",
        "colab_type": "code",
        "colab": {}
      },
      "cell_type": "code",
      "source": [
        ""
      ],
      "execution_count": 0,
      "outputs": []
    },
    {
      "metadata": {
        "id": "15KmCF1XdOpm",
        "colab_type": "code",
        "colab": {}
      },
      "cell_type": "code",
      "source": [
        "### after seeing the eda on each of the columns in EDA file ---> following actions on missing data  --> first log transform for skewed and then \n",
        "for x in numeric_cols:\n",
        "  if (df[x].isnull().sum()>0):\n",
        "    df[x].fillna(df[x].mean(),inplace = True)"
      ],
      "execution_count": 0,
      "outputs": []
    },
    {
      "metadata": {
        "id": "5Rx8YfiSdWnZ",
        "colab_type": "code",
        "colab": {}
      },
      "cell_type": "code",
      "source": [
        "## the following transforms the data ----> z normalised the data ---> \n",
        "scaler = StandardScaler()\n",
        "df[numeric_cols] = scaler.fit_transform(df[numeric_cols])"
      ],
      "execution_count": 0,
      "outputs": []
    },
    {
      "metadata": {
        "id": "WFrWXQxTdpc7",
        "colab_type": "code",
        "colab": {}
      },
      "cell_type": "code",
      "source": [
        "##now non numeric cols"
      ],
      "execution_count": 0,
      "outputs": []
    },
    {
      "metadata": {
        "id": "kbPM1jgIdtma",
        "colab_type": "code",
        "outputId": "44059e52-77a1-4079-a5b5-69bd8a53fc04",
        "colab": {
          "base_uri": "https://localhost:8080/",
          "height": 391
        }
      },
      "cell_type": "code",
      "source": [
        "df[string_cols].isnull().sum()"
      ],
      "execution_count": 13,
      "outputs": [
        {
          "output_type": "execute_result",
          "data": {
            "text/plain": [
              "Date.of.Birth                     3\n",
              "Gender                            3\n",
              "Education.Level                   3\n",
              "No.of.dependents                  3\n",
              "Detailed.reason.by.Applicant      7\n",
              "Application.incomplete.date      95\n",
              "Loan.Amount                       0\n",
              "Contract.Date                     0\n",
              "Marital.status                    3\n",
              "Application.Completion.time      18\n",
              "Term                              0\n",
              "First.Payment.Date.y              0\n",
              "Last.Payment.Date               195\n",
              "Application.ID                    3\n",
              "CL.Purpose..Name                  3\n",
              "Residential.status                3\n",
              "UTM.Source                      940\n",
              "Created.Date                      3\n",
              "pymt_standing                     0\n",
              "Maturity.Date                     0\n",
              "Fee.Set                           0\n",
              "dtype: int64"
            ]
          },
          "metadata": {
            "tags": []
          },
          "execution_count": 13
        }
      ]
    },
    {
      "metadata": {
        "id": "G6FS3hZReG6N",
        "colab_type": "code",
        "colab": {}
      },
      "cell_type": "code",
      "source": [
        "## dropping some cols which are descriptive and not important\n",
        "\n",
        "string_cols.remove('Detailed.reason.by.Applicant')\n",
        "string_cols.remove('Application.incomplete.date')\n",
        "string_cols.remove('Application.Completion.time')\n",
        "string_cols.remove('UTM.Source')\n",
        "string_cols.remove('Application.ID')"
      ],
      "execution_count": 0,
      "outputs": []
    },
    {
      "metadata": {
        "id": "ZYAeCzhieTBH",
        "colab_type": "code",
        "colab": {}
      },
      "cell_type": "code",
      "source": [
        "# for now dropping first payment and last payment , created date , cl purpose\n",
        "string_cols.remove('Created.Date')\n",
        "string_cols.remove('CL.Purpose..Name')\n",
        "string_cols.remove('Last.Payment.Date')\n",
        "string_cols.remove('First.Payment.Date.y')"
      ],
      "execution_count": 0,
      "outputs": []
    },
    {
      "metadata": {
        "id": "9mlG4GM2eYJl",
        "colab_type": "code",
        "colab": {}
      },
      "cell_type": "code",
      "source": [
        "## for dob\n",
        "\n",
        "present = datetime.now()\n",
        "present_year = present.year\n",
        "df['Date.of.Birth'] = (present_year - df['Date.of.Birth'].apply(lambda x: x.year))\n",
        "df['Date.of.Birth'].fillna(df['Date.of.Birth'].median(), inplace = True)"
      ],
      "execution_count": 0,
      "outputs": []
    },
    {
      "metadata": {
        "id": "JkykIzLQekfV",
        "colab_type": "code",
        "colab": {}
      },
      "cell_type": "code",
      "source": [
        "df['Gender'].replace(np.nan,'Male',inplace = True) \n",
        "### encoding the data\n",
        "dict = {'Male' :1 , 'Female':0}\n",
        "df['Gender'].replace(dict,inplace = True)"
      ],
      "execution_count": 0,
      "outputs": []
    },
    {
      "metadata": {
        "id": "4H2jKrdEeq95",
        "colab_type": "code",
        "colab": {}
      },
      "cell_type": "code",
      "source": [
        "df['Education.Level'].replace(np.nan,'Graduate',inplace = True) \n",
        "### replacing the following in an order \n",
        "dict = {'Professional':1, 'Graduate':3, 'Upto Hr Secondary':5, 'Post Graduate':2,\n",
        "       'Diploma':4}\n",
        "df['Education.Level'].replace(dict,inplace = True)"
      ],
      "execution_count": 0,
      "outputs": []
    },
    {
      "metadata": {
        "id": "HXp7_2xQe5Bd",
        "colab_type": "code",
        "colab": {}
      },
      "cell_type": "code",
      "source": [
        "df['No.of.dependents'].replace(np.nan,'1 to 2',inplace = True)\n",
        "### ordinal variable -> 0 gets 1 , '1 to 2' gets 2 and so on \n",
        "dict = {'1 to 2':2, '0':1, '3 to 5':3, 'More than 5':4}\n",
        "df['No.of.dependents'].replace(dict,inplace = True)"
      ],
      "execution_count": 0,
      "outputs": []
    },
    {
      "metadata": {
        "id": "ZTPG-GCie_yC",
        "colab_type": "code",
        "colab": {}
      },
      "cell_type": "code",
      "source": [
        "### loan amount ---> convert into float\n",
        "df['Loan.Amount'] = df['Loan.Amount'].astype('float64')\n"
      ],
      "execution_count": 0,
      "outputs": []
    },
    {
      "metadata": {
        "id": "tLQCkLMdfCuy",
        "colab_type": "code",
        "colab": {}
      },
      "cell_type": "code",
      "source": [
        "### contract date ::: when the loan was passed --> can be turned into how far algo the loan was sanctioned\n",
        "df['Contract.Date'] = (present.year -df['Contract.Date'].apply(lambda x:x.year)  )*12 +  present.month -df['Contract.Date'].apply(lambda x:x.month)"
      ],
      "execution_count": 0,
      "outputs": []
    },
    {
      "metadata": {
        "id": "hOWEG1XEfFr5",
        "colab_type": "code",
        "colab": {}
      },
      "cell_type": "code",
      "source": [
        "### maturity date ----> \n",
        "\n",
        "df['Maturity.Date'] = (df['Maturity.Date'].apply(lambda x:x.year) -present.year  )*12 +  df['Maturity.Date'].apply(lambda x:x.month) - present.month"
      ],
      "execution_count": 0,
      "outputs": []
    },
    {
      "metadata": {
        "id": "LIZG9QbNfLaB",
        "colab_type": "code",
        "colab": {}
      },
      "cell_type": "code",
      "source": [
        "### replacing with single\n",
        "df['Marital.status'].replace(np.nan,'Single',inplace = True)\n",
        "dict = {'Married':1, 'Single':0, 'Divorcee':0, 'Widower':0}\n",
        "df['Marital.status'].replace(dict,inplace = True)"
      ],
      "execution_count": 0,
      "outputs": []
    },
    {
      "metadata": {
        "id": "osOis99zfVy0",
        "colab_type": "code",
        "colab": {}
      },
      "cell_type": "code",
      "source": [
        "df['Term'] = df['Term'].astype('float64')\n"
      ],
      "execution_count": 0,
      "outputs": []
    },
    {
      "metadata": {
        "id": "iuG91TGrfYZg",
        "colab_type": "code",
        "colab": {}
      },
      "cell_type": "code",
      "source": [
        "df['Residential.status'].replace(np.nan,'Rented',inplace = True)\n",
        "dict = {'Rented': 0, 'Self or spouse owned':1, 'Company Quarters':0,\n",
        "       'Staying with Parents':0, 'Shared Accommodation':0, 'Paying Guest':0,\n",
        "       'Hostel':0, 'Paying Guest/Shared Accommodation':0 }\n",
        "df['Residential.status'].replace(dict,inplace = True)"
      ],
      "execution_count": 0,
      "outputs": []
    },
    {
      "metadata": {
        "id": "hZCRSjgNfiNN",
        "colab_type": "code",
        "colab": {}
      },
      "cell_type": "code",
      "source": [
        "dict = {'Active - Good Standing':1, 'Active - Bad Standing':0,\n",
        "       'Closed - Obligations met':2}   ### considering it another class\n",
        "df['pymt_standing'].replace(dict,inplace =True)"
      ],
      "execution_count": 0,
      "outputs": []
    },
    {
      "metadata": {
        "id": "o2Gq_ylnflzv",
        "colab_type": "code",
        "colab": {}
      },
      "cell_type": "code",
      "source": [
        "### considering monexo fee set different from others assig 0\n",
        "dict = {'1-M3':3, '1-M5':5, '1-M7':7, 'Monexo Fee Set':0, '1-M6':6, '1-M4':4, '1-M2':2,\n",
        "       '1-M1':1, '1-M8':8 } \n",
        "df['Fee.Set'].replace(dict, inplace =True)"
      ],
      "execution_count": 0,
      "outputs": []
    },
    {
      "metadata": {
        "id": "p0tnJRnyfpoI",
        "colab_type": "code",
        "colab": {}
      },
      "cell_type": "code",
      "source": [
        "### normalise the newly created float datatype columns"
      ],
      "execution_count": 0,
      "outputs": []
    },
    {
      "metadata": {
        "id": "jf6Ti3CcfxO8",
        "colab_type": "code",
        "outputId": "c0226a30-fe69-4a12-b6ce-e7c979c10b69",
        "colab": {
          "base_uri": "https://localhost:8080/",
          "height": 110
        }
      },
      "cell_type": "code",
      "source": [
        "transformed_cols = ['Date.of.Birth','Loan.Amount','Contract.Date','Maturity.Date','Term']\n",
        "scaler = StandardScaler()\n",
        "df[transformed_cols] = scaler.fit_transform(df[transformed_cols])"
      ],
      "execution_count": 29,
      "outputs": [
        {
          "output_type": "stream",
          "text": [
            "/usr/local/lib/python3.6/dist-packages/sklearn/preprocessing/data.py:645: DataConversionWarning: Data with input dtype int64, float64 were all converted to float64 by StandardScaler.\n",
            "  return self.partial_fit(X, y)\n",
            "/usr/local/lib/python3.6/dist-packages/sklearn/base.py:464: DataConversionWarning: Data with input dtype int64, float64 were all converted to float64 by StandardScaler.\n",
            "  return self.fit(X, **fit_params).transform(X)\n"
          ],
          "name": "stderr"
        }
      ]
    },
    {
      "metadata": {
        "id": "UnECBy1Zf0NR",
        "colab_type": "code",
        "outputId": "d7038431-87b2-471f-edb0-23867a385d43",
        "colab": {
          "base_uri": "https://localhost:8080/",
          "height": 425
        }
      },
      "cell_type": "code",
      "source": [
        "numeric_cols + string_cols   ### these are the features we will be currently using for model"
      ],
      "execution_count": 30,
      "outputs": [
        {
          "output_type": "execute_result",
          "data": {
            "text/plain": [
              "['CRIF.S1.Score',\n",
              " 'Payment.Amount',\n",
              " 'Interest.Paid',\n",
              " 'Principal.Advance.Paid',\n",
              " 'Total.years.of.experience.in.Employment.',\n",
              " 'Estimated.Interest',\n",
              " 'Debt.service.ratio',\n",
              " 'Salary.Income.current.month',\n",
              " 'Interest.Rate',\n",
              " 'Total.Amount.Paid',\n",
              " 'Principal.Advance.Remaining',\n",
              " 'Delinquent.Amount',\n",
              " 'Date.of.Birth',\n",
              " 'Gender',\n",
              " 'Education.Level',\n",
              " 'No.of.dependents',\n",
              " 'Loan.Amount',\n",
              " 'Contract.Date',\n",
              " 'Marital.status',\n",
              " 'Term',\n",
              " 'Residential.status',\n",
              " 'pymt_standing',\n",
              " 'Maturity.Date',\n",
              " 'Fee.Set']"
            ]
          },
          "metadata": {
            "tags": []
          },
          "execution_count": 30
        }
      ]
    },
    {
      "metadata": {
        "id": "WrDf7hyyf5xw",
        "colab_type": "code",
        "colab": {}
      },
      "cell_type": "code",
      "source": [
        "new_processed_data = df[numeric_cols+string_cols]\n",
        "new_processed_data.to_csv('new_processed_data.csv', index = False)"
      ],
      "execution_count": 0,
      "outputs": []
    },
    {
      "metadata": {
        "id": "a_kAh721gDpe",
        "colab_type": "code",
        "colab": {}
      },
      "cell_type": "code",
      "source": [
        ""
      ],
      "execution_count": 0,
      "outputs": []
    }
  ]
}